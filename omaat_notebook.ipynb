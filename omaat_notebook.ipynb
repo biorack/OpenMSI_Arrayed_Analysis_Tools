{
 "cells": [
  {
   "cell_type": "markdown",
   "metadata": {},
   "source": [
    "<h1>OpenMSI Arrayed Analysis Tools</h1>\n",
    "<h2>Introduction</h2>\n",
    "Mass spectrometry imaging (MSI) enables the mass analysis of thousands of spatially defined samples, and can be applied in the high-throughput screening of, for example, enzyme activity or compound libraries. Here we present OpenMSI Arrayed Analaysis Tools, an Python based software tool for the analysis of spatially defined samples with MSI.\n",
    "\n",
    "This tutorial Notebook ([Tutorial_OpenMSI_Arrayed_Analysis_Tools](link to notebook in reposetory)) will demonstrate the basic features of OpenMSI Arrayed Analaysis Tools, with step by step guidance on how to run the Jupyter/iPython Notebook. A normal version, without the turtorial markdown, is also available ([OpenMSI_Arrayed_Analysis_Tools](link to notebook in reposetory)). Furthermore, a version showcasing advanced capabilities and no mardown is also available ([Advanced_OpenMSI_Arrayed_Analyis_Tools](link to notebook inreposetory). To complete this tutorial, one would need:\n",
    "<ul>\n",
    "<li>Jupyter/iPython. OpenMSI Arrayed Analaysis Tools requires Jupyter version 4.1+ and Python version 2.7+ or 3.2+. Further information on iPython/Jupyter can be found at and http://ipython.org/. </li>\n",
    "<li>The following Python packages:<ul>\n",
    "<li>numpy</li>\n",
    "<li>matplotlib</li>\n",
    "<li>requests</li>\n",
    "<li>pandas</li>\n",
    "<li>future (for Python 2.7)</li>\n",
    "</ul></li>\n",
    "<li>An OpenMSI account. Users need to get an OpenMSI account in order to use this tool. An OpenMSI account can be obtained through the OpenMSI team and NERSC (https://openmsi.nersc.gov/openmsi/client/omsiAccount) at no cost.</li>\n",
    "</ul>\n",
    "\n",
    "If the interactive dialogs do not appear, try running Jupyter explicitly from the command line using the \"jupyter notebook\" command. Many shortcuts will call the deprecated \"ipython notebook\" in stead.\n",
    "\n",
    "Users don't have to provide a MSI data file. For this tutorial, we have selected the usage of the [name dataset](link to dataset in openmsi) MSI data set (as used in the [manuscript](link to paper), which is publicly available. "
   ]
  },
  {
   "cell_type": "markdown",
   "metadata": {},
   "source": [
    "<h2>How to use this iPython/Jupyter Notebook</h2>\n",
    "*An interactive demo for new users of iPython/Jupyter notebooks can be found at [Nature](http://www.nature.com/news/ipython-interactive-demo-7.21492)*\n",
    "\n",
    "In this tutorial, there are 2 types of content, namely text and code. This content is placed in boxes called \"cells\". If you click around on this page, you'll see different cells highlighted. To execute each cell (regardless of content), you hit on your keyboard SHIFT+ENTER or press the play button. If the cell contains text, the content will be displayed directly. If the cell contains code, the code will be executed. "
   ]
  },
  {
   "cell_type": "markdown",
   "metadata": {},
   "source": [
    "<h2>Cell 1. Loading Arrayed Analysis Tool</h2>\n",
    "Execute the cell below to load the OpenMSI Arrayed Analysis Tool. It should load in less than 30 seconds\n",
    "<p>_--When succesful, the message \"Completed loading OpenMSI Arrayed Analysis Toolkit\" will appear--_"
   ]
  },
  {
   "cell_type": "code",
   "execution_count": null,
   "metadata": {
    "collapsed": false
   },
   "outputs": [],
   "source": [
    "#load the code. Since it's specialized ipython notebook code, use '%run' rather than 'import'\n",
    "%run omaat_lib.ipy"
   ]
  },
  {
   "cell_type": "markdown",
   "metadata": {},
   "source": [
    "<h2>Cell 2. Log into OpenMSI</h2>\n",
    "Execute the cell below. When the cell is executed, the user is asked to put in their NERSC/OpenMSI username. \n",
    "<p>After entering their username, the user is asked to put in their NERSC/OpenMSI password. _--If login is succesful, the message \"Login appears to be successful!\" will appear--_<p>\n",
    "<p> __--Log in is not required for this tutorial. However, in order to analysis the users' own files, logging into OpenMSI is required--__"
   ]
  },
  {
   "cell_type": "code",
   "execution_count": null,
   "metadata": {
    "collapsed": false
   },
   "outputs": [],
   "source": [
    "#log into OpenMSI.nersc.gov\n",
    "openMSIsession = login()"
   ]
  },
  {
   "cell_type": "markdown",
   "metadata": {},
   "source": [
    "<h2>Cell 3. File and ion selection</h2>\n",
    "After a successful login, executing the file selector cell will prompt a list of the users available OpenMSI files. _--If not logged into OpenMSI, only the publicly available OpenMSI files will be displayed, including the file used in this tutorial--_\n",
    "<ul>\n",
    "<li> Next, select the file (name file) by clicking on the file name.\n",
    "<li> Then, put in the corresponding Experiment Index and Data Index to the file you want to analysie. For this tutorial, put in '0' for both indexes. \n",
    "<li> Next, provide the m/z values of the ions for analysis. Insert the m/z value in the 'Add an ion' box, and click the 'Add Ion\" button. The value will appear in the box 'Select which ions you want to load'. For the tutorial, add the following m/z values: ...-... \n",
    "<li> Ions can be removed be first clicking on the m/z value in the 'Select which ions you want to load' box and then on the 'Remove Ion' button.\n",
    "<li> Then, put in the value for the integrate at +/- this amount of the inserted m/z values. Users can choose between 'absolute m/z values' or '% of m/z'. For this tutorial select the 'absolute m/z values' and set it at ... .\n",
    "<li> Last, using the given parameters, a base image has to generated. To do this, the user has to click on the 'Load Image!' button. _--After clicking on the 'Load Image!' button, the line \"Loading image... \" will appear. The progress of loading the separate ions will be displayed, in the form of \"loading ion 1 of x. m/z = x\"--_ ___--When loading has completed, the message \"Image has been loaded.\" will appear--___  \n",
    "<ul>"
   ]
  },
  {
   "cell_type": "code",
   "execution_count": null,
   "metadata": {
    "collapsed": false
   },
   "outputs": [],
   "source": [
    "if \"openMSIsession\" not in locals():\n",
    "    openMSIsession=OpenMSIsession()\n",
    "openMSIsession.imageLoader_with_dialogs() #once loaded the image will be stored in the \"img\" variable"
   ]
  },
  {
   "cell_type": "markdown",
   "metadata": {},
   "source": [
    "<h2>Cell 4. Display base image</h2>\n",
    "In order to display the generated base image, execute the cell below. The base image will be displayed in new window. The base image is the ion-intensity vizualization of all selected ions and will be used for mask placement. \n",
    "<p> _--For this tutorial, this step is optional--_\n",
    "<p>___--In order to continue with running the next cell in the iPython notebook, the base image figure window has to be closed--___\n"
   ]
  },
  {
   "cell_type": "code",
   "execution_count": null,
   "metadata": {
    "collapsed": false
   },
   "outputs": [],
   "source": [
    "color_map=\"hot_r\" #want to try a different color map? change it here, run the cell, and all functions below will use it\n",
    "marker_color=\"blue\"\n",
    "Zzoom=1 #set this to a higher number to see a narrower range of values (useful if one pixel is way brighter than the rest)\n",
    "plt.imshow(img.baseImage,cmap=color_map,clim=(0.0,np.amax(img.baseImage)/Zzoom))\n",
    "plt.colorbar()\n",
    "putWindowOnTop()\n",
    "plt.show()"
   ]
  },
  {
   "cell_type": "markdown",
   "metadata": {},
   "source": [
    "<h2>Cell 5. Placing trapezoidal mask</h2>\n",
    "By executing the cell below, a trapezoidal mask containing individual markers will be generated. The size of the trapezoid and the number of markers is determined by number of rows and columns. For this tutorial, generate a trapezoid with # rows and # columns. When the cell is executed, the base image with the trapezoidal mask will be displayed in new window.\n",
    "<p> Then, the trapezoidal mask is roughly placed over the arryaed samples; optimization of positioning of the individual markers will be performed in the next cells. The mask can be moved by dragging the corner markers of the trapezoid (highlighted with red halos) to the prefered position. For this tutorial, place the trapezoidal mask by dragging the corner markers of the trapezoid to the corner samples. Since the top right corner doesn't contain samples, roughly position the top right marker so that the top row and right column markers allign with the samples.\n",
    "<p>The Hexagonal Offset, which can be a decimal number, moves every other row that many spots to the right. If you want a traditional hexagonally tiled mask, set the Hexagonal Offset to 0.5 to move every other row to the right, or set it to -0.5 to move every other row to the left. \n",
    "<p>__--To continue, the base image figure window has to be closed. The last coordinates of the mask will be stored.--__"
   ]
  },
  {
   "cell_type": "code",
   "execution_count": null,
   "metadata": {
    "collapsed": false
   },
   "outputs": [],
   "source": [
    "#define spot centers as a trapezoid.\n",
    "#if you want to pass rows/columns as arguments, or choose the colormap, use the img.roughPosition() method in stead.\n",
    "img.roughPosition_with_dialogs(colormap=color_map,markercolor=marker_color)"
   ]
  },
  {
   "cell_type": "markdown",
   "metadata": {},
   "source": [
    "## <h2>Cell 6. Automatic spot optimization</h2>\n",
    "In the next cell, the Jupyter notebook will optimze the marker position. For detials on the optimization algorithm, see the method section in the [manuscript](link to paper). For this tutorial, perform the automatic spot optimization.\n",
    "<ul>\n",
    "<li> First, put in the integration radius for the individual markers in the mask. For the tutorial, put in x. \n",
    "<li> Then, put in the number of rounds of optimization. For this tutorial, put in x. \n",
    "<li> Next, put in the number of pixels how far away from the current location should the algorithm searches. For this tutorial, put in x.\n",
    "<li> Then, if you don't want that the markers will overlap after optimalization, check the box. For this tutorial, check the box.\n",
    "<li> Next, give weighting values for each ion. For this tutorial, put in 1 for all ions. \n",
    "<li> You can calculate the scores for the current marker locations, by clicking on the 'Calculate scores for current spot locations' button. Optimal scores will be x. For this tutorial, you can skip this step.\n",
    "<li> Then, put in the minimum score necessary to move a marker. For this tutorial, put in x. \n",
    "<li> Last, using the given parameters, the marker position can be optimized. To do this, the user has to click on the 'Optimize Spots!' button. _--After clicking on the button, the progress of the optimization will be displayed. When optimization is completed, the message \"optimization routine completed. new spot x and y positions saved.\" will appear--_\n",
    "\n",
    "<p> _--Performing the spot optimization is optional. Individual markers can be positioned manually in the cell 'Displaying optimized markers(s) positioning'--_"
   ]
  },
  {
   "cell_type": "code",
   "execution_count": null,
   "metadata": {
    "collapsed": false
   },
   "outputs": [],
   "source": [
    "#automagically optimize the spot centers to correspond to the actual spots on the image\n",
    "img.optimizeSpots_with_dialogs()"
   ]
  },
  {
   "cell_type": "markdown",
   "metadata": {},
   "source": [
    "<h2>Cell 7. Displaying and finetuning optimized marker positioning</h2>\n",
    "In order to view the optimized marker postioning, execute the cell below. The base image will be displayed in new window. Individual markers can be moved by dragging the markers to the preferred postion.\n",
    "<p>The radius of the circular spot markers in this tool is not necessarily the same as your actual integration radius, though we have tried our best to make it a reasonable approximation. Use the \"Calculating spot areas\" cell below to see the shapes of your actual calculated spots</p>\n",
    "<p>If no automatic spot optimization was performed, the trapezoidal mask will be at same postion as it was. Still, individual markers can be moved by dragging the markers to the preferred postion.\n",
    "<p>___--In order to continue with running the next cell in the iPython notebook, the base image figure wondow has to be closed. The last coordinates of the mask will be stored--___"
   ]
  },
  {
   "cell_type": "code",
   "execution_count": null,
   "metadata": {
    "collapsed": false
   },
   "outputs": [],
   "source": [
    "#check the positions of the spots and manually adjust them if need be\n",
    "radius=arrayed_analysis_radius if (\"arrayed_analysis_radius\" in locals()) else 2\n",
    "img.fineTunePosition(markerRadius=radius,colormap=color_map,markercolor=marker_color)"
   ]
  },
  {
   "cell_type": "markdown",
   "metadata": {},
   "source": [
    "<h2>Cell 8. Saving Arrayed Image</h2>\n",
    "If needed, the arrayed image, including the coordinates of the spots, can be stored in a 'pickle' file. First, enter a name between the parentheses, replacing name_pickle_file. Then execute the cell to save the file. \n",
    "<p> _--For this tutorial, saving the mask position is optional--_"
   ]
  },
  {
   "cell_type": "code",
   "execution_count": null,
   "metadata": {
    "collapsed": false
   },
   "outputs": [],
   "source": [
    "#Optional: Save the ArrayedImage into a pickle file.\n",
    "filename=\"filename.arrayed_img\"\n",
    "import pickle\n",
    "pickle.dump(img, open(filename,\"wb\"))\n",
    "print(\"Done saving.\")"
   ]
  },
  {
   "cell_type": "markdown",
   "metadata": {},
   "source": [
    "<h2>Cell 9. Loading saved mask position</h2>\n",
    "Saved arrayed images can be loaded from a pickle file. Enter the name of the saved pickle file between the parentheses, replacing name_saved_pickle_file. Then, execute the cell to load the file. \n",
    "<p> _--For this tutorial, this step is optional--_"
   ]
  },
  {
   "cell_type": "code",
   "execution_count": null,
   "metadata": {
    "collapsed": false
   },
   "outputs": [],
   "source": [
    "#Optional: Load an ArrayedImage from a pickle file. This way you can work off-line\n",
    "filename=\"filename.arrayed_img\"\n",
    "import pickle\n",
    "img=pickle.load(open(filename,\"rb\"))\n",
    "print(img)"
   ]
  },
  {
   "cell_type": "markdown",
   "metadata": {},
   "source": [
    "<h2>Cell 10. Calculating the spot areas, and final inspection</h2>\n",
    "Execute the cell below, to calculate which pixels belong to which spot. The integration radius of the markers can be adjusted, but if you leave it as-is, the same number you used in the optimization stage will be used.\n",
    "A visual representation of the marker size and positioning will be generated for visiual inspection.\n",
    "<p>--The message \"x spots generated. number of spots with N pixels:{x: x, x: x}\" will appear--_"
   ]
  },
  {
   "cell_type": "code",
   "execution_count": null,
   "metadata": {
    "collapsed": false
   },
   "outputs": [],
   "source": [
    "#You'll need to call this function. It returns a list of spots (where each spot is a list of pixels),\n",
    "#which is also stored inside the object.\n",
    "%store -r arrayed_analysis_radius\n",
    "spots=img.generateSpotList(integrationRadius=arrayed_analysis_radius)\n",
    "img.showMaskedImage(spotList=spots,alphaRows=True)\n",
    "#this is the same integration radius that you set in the optimization step"
   ]
  },
  {
   "cell_type": "markdown",
   "metadata": {},
   "source": [
    "<h2>Cell 11. Exporting results into a comma-separated text (csv) file</h2>\n",
    "The next cell is used to save the results of the arrayed analysis tool as a table into a .csv file. It name the file after the current date and time, but if you want to give the file a specific name, enter the name between the quotes after filename=.\n",
    "\n",
    "The file will contain a comma-separated file which you could open in Excel to do further data anlysis."
   ]
  },
  {
   "cell_type": "code",
   "execution_count": null,
   "metadata": {
    "collapsed": false,
    "scrolled": true
   },
   "outputs": [],
   "source": [
    "#Write results to a file\n",
    "#if you don't pass it an explicit spotList it will use the spot set stored in the ArrayedImage\n",
    "filename=\"\"  #.csv extension will be automatically added\n",
    "img.writeResultTable(filename=filename,alphaRows=True)"
   ]
  },
  {
   "cell_type": "markdown",
   "metadata": {},
   "source": [
    "<h2>Cell 12. Using pandas to perform programmatic data analysis</h2>\n",
    "If you prefer to use Pandas over Excel to do data analysis, the resultsDataFrame method returns a Pandas dataframe with the same kind of information that the writeResultTable method gives.\n",
    "In this example, we compute the first ion as a percentage of all ions loaded, and plot those percentages, from small to large, using matplotlib. "
   ]
  },
  {
   "cell_type": "code",
   "execution_count": null,
   "metadata": {
    "collapsed": false
   },
   "outputs": [],
   "source": [
    "df=img.resultsDataFrame(minPixelIntensity=0,alphaRows=True) #generate the dataframe\n",
    "IPython.display.display(df)\n",
    "\n",
    "sums_df=df.loc[:,(slice(None),'sum')] #get the sums from the dataframe\n",
    "sums_df.columns = sums_df.columns.get_level_values(0) #name the columns to make indexing easier later\n",
    "percentage_firstion=100.0*sums_df[img.ions[0]]/sums_df.sum(axis=1) #calculate the percentage\n",
    "percentage_firstion.sort() #rank the data from low to high. Using sort() instead of sort_values(inplace=True) for backward compatibility\n",
    "plt.bar(range(len(percentage_firstion)),percentage_firstion,edgecolor='b') #define a bar chart\n",
    "plt.xlabel('Spot rank') #set x axis label\n",
    "plt.ylabel(\"% m/z={:.1f} of all loaded ions\".format(img.ions[0])) #set y axis label\n",
    "plt.xlim(0,len(percentage_firstion)-1) #set x axis range\n",
    "plt.show()"
   ]
  },
  {
   "cell_type": "markdown",
   "metadata": {},
   "source": [
    "<h2>Viewing and manipulating spot spectra</h2>\n",
    "You can request the average spectra for your spots from the OpenMSI server.\n",
    "The toolkit can return the spectral data as a dataframe, which makes plotting straight-forward\n",
    "\n",
    "Quite a lot of data needs to be transferred between the server and this script, so allow some time\n",
    "for this example to run"
   ]
  },
  {
   "cell_type": "code",
   "execution_count": null,
   "metadata": {
    "collapsed": false
   },
   "outputs": [],
   "source": [
    "spectra_df=openMSIsession.getSpotSpectra(img,verbose=True) #Loads the spectra from the OpenMSI server\n",
    "                                                           #It's  lot of data, so save the desulting dataframe\n",
    "                                                           #so that you dont have to run this method repeatedly."
   ]
  },
  {
   "cell_type": "code",
   "execution_count": null,
   "metadata": {
    "collapsed": true
   },
   "outputs": [],
   "source": [
    "A01_spectrum=spectra_df[\"A01\"] # get only the spectrum for the spot at location A01\n",
    "A01_spectrum.plot() #plot the entire spectrum for spot A01\n",
    "plt.xlabel(\"m/z\")\n",
    "plt.ylabel(\"intensity\")\n",
    "plt.show()"
   ]
  },
  {
   "cell_type": "code",
   "execution_count": null,
   "metadata": {
    "collapsed": true
   },
   "outputs": [],
   "source": [
    "A01_spectrum[900:1950].plot() #plot only the m/z values between 900 and 1200\n",
    "plt.xlabel(\"m/z\")\n",
    "plt.ylabel(\"intensity\")\n",
    "plt.show()"
   ]
  },
  {
   "cell_type": "code",
   "execution_count": null,
   "metadata": {
    "collapsed": false
   },
   "outputs": [],
   "source": [
    "spectra_df.plot() # plot ALL the spectra that are loaded on top of each other.\n",
    "                  #Depending on how many spots are in your image, this can be\n",
    "                  #a LOT of data, if you don't have a good computer this might crash.\n",
    "plt.xlabel(\"m/z\")\n",
    "plt.ylabel(\"intensity\")\n",
    "plt.show()"
   ]
  },
  {
   "cell_type": "markdown",
   "metadata": {
    "collapsed": false
   },
   "source": [
    "<h2>Cell 13. Uploading results to OpenMSI (Python 2 only)</h2>\n",
    "\n",
    "You can save the results from the spot analysis to an OpenMSI HDF5 file and upload the file to OpenMSI to easily share results with others.\n",
    "\n",
    "If you only want to save Arrayed Image to an OpenMSI HDF5 file then do:"
   ]
  },
  {
   "cell_type": "code",
   "execution_count": null,
   "metadata": {
    "collapsed": false
   },
   "outputs": [],
   "source": [
    "# Save the ArrayedImage to an OpenMSI File\n",
    "save_filename = 'save_omaat2.h5'\n",
    "omsi_out_file = img.saveToOpenMSIFile(filename=save_filename, spotSpectra=spectra_df)  \n",
    "# filename : If None, than a dialog will be shown to ask for a filename to be used"
   ]
  },
  {
   "cell_type": "markdown",
   "metadata": {},
   "source": [
    "We can now easily restore our analysis from the local file at any time via:"
   ]
  },
  {
   "cell_type": "code",
   "execution_count": null,
   "metadata": {
    "collapsed": true
   },
   "outputs": [],
   "source": [
    "spotSpectra_resored, arrayedImage_restored = openMSIsession.restore_omaat_results(\n",
    "                            filename=save_filename,\n",
    "                            localFile=True)"
   ]
  },
  {
   "cell_type": "markdown",
   "metadata": {},
   "source": [
    "To upload our ArrayedImage to OpenMSI we simply call:"
   ]
  },
  {
   "cell_type": "code",
   "execution_count": null,
   "metadata": {
    "collapsed": false
   },
   "outputs": [],
   "source": [
    "openMSIsession.upload_omaat_results(filename=save_filename, machine='edison')\n",
    "# filename: If we set the fileName to None, then we'll ask the user for a filename via a dialog\n",
    "# username: We can set the username or we'll ask for it\n",
    "# session: The NERSC NEWT session to be used (not the OpenMSI seesion). We'll create it if not given\n",
    "# machine: The NERSC machine we should use for the upload, e.g., 'cori' or 'edison'"
   ]
  },
  {
   "cell_type": "markdown",
   "metadata": {},
   "source": [
    "We can naturally also download the complete HDF5 file from OpenMSI simply via:"
   ]
  },
  {
   "cell_type": "code",
   "execution_count": null,
   "metadata": {
    "collapsed": false
   },
   "outputs": [],
   "source": [
    "remote_file = os.path.join(openMSIsession.username, os.path.basename(save_filename))\n",
    "download_filename = openMSIsession.download_file(filename=remote_file)"
   ]
  },
  {
   "cell_type": "markdown",
   "metadata": {},
   "source": [
    "We can now again restore our analysis from the downloaded file in the same way as before via:"
   ]
  },
  {
   "cell_type": "code",
   "execution_count": null,
   "metadata": {
    "collapsed": false
   },
   "outputs": [],
   "source": [
    "spotSpectra_resored, arrayedImage_restored = openMSIsession.restore_omaat_results(\n",
    "                            filename=download_filename,\n",
    "                            localFile=True)"
   ]
  },
  {
   "cell_type": "markdown",
   "metadata": {},
   "source": [
    "We can also restore our arrayed image and spot spectra data from the remote file stored on OpenMSI directly via"
   ]
  },
  {
   "cell_type": "code",
   "execution_count": null,
   "metadata": {
    "collapsed": false
   },
   "outputs": [],
   "source": [
    "#remote_file = os.path.join(openMSIsession.username, os.path.basename(save_filename))\n",
    "#spotSpectra_resored, arrayedImage_restored = openMSIsession.restore_omaat_results(\n",
    "#                            filename=remote_file,\n",
    "#                            localFile=False)"
   ]
  },
  {
   "cell_type": "code",
   "execution_count": null,
   "metadata": {
    "collapsed": true
   },
   "outputs": [],
   "source": []
  }
 ],
 "metadata": {
  "anaconda-cloud": {},
  "kernelspec": {
   "display_name": "Python [conda root]",
   "language": "python",
   "name": "conda-root-py"
  },
  "language_info": {
   "codemirror_mode": {
    "name": "ipython",
    "version": 2
   },
   "file_extension": ".py",
   "mimetype": "text/x-python",
   "name": "python",
   "nbconvert_exporter": "python",
   "pygments_lexer": "ipython2",
   "version": "2.7.11"
  }
 },
 "nbformat": 4,
 "nbformat_minor": 0
}
