{
 "cells": [
  {
   "cell_type": "markdown",
   "metadata": {},
   "source": [
    "<h1>OpenMSI Arrayed Analysis Toolkit</h1>\n",
    "\n",
    "Mass spectrometry imaging (MSI) enables the mass analysis of thousands of spatially defined samples, and can be applied in the high-throughput screening of, for example, enzyme activity or compound libraries. Here we present OpenMSI Arrayed Analaysis Tools, an Python based software tool for the analysis of spatially defined samples with MSI. The manuscript accompanying the notebook can be found [here](link to paper).\n",
    "\n",
    "This is the standard version of the OMAAT notebook, without the turtorial markdown. A tutorial notebook ([AnalChem_2016_DeRaad](https://github.com/biorack/omaat/blob/master/AnalChem_2016_DeRaad.ipynb)) is available and will demonstrate the basic features of OpenMSI Arrayed Analaysis Toolkit, with step by step guidance on how to run the Jupyter/iPython Notebook. Furthermore, a version showcasing advanced capabilities and no mardown is also available [omaat_advanced.ipynb](omaat_advanced.ipynb). \n",
    "\n",
    "Version requirements for the OMAAT notebook can be found in the [README](https://github.com/biorack/omaat/blob/master/README.md) file."
   ]
  },
  {
   "cell_type": "markdown",
   "metadata": {},
   "source": [
    "<h2>Cell 1. Loading Arrayed Analysis Tool</h2>\n",
    "Execute the cell below to load the OpenMSI Arrayed Analysis Tool. It should load in about 15 seconds\n",
    "<p>_--When succesful, the message \"Completed loading OpenMSI Arrayed Analysis Toolkit\" will appear--_"
   ]
  },
  {
   "cell_type": "code",
   "execution_count": null,
   "metadata": {
    "collapsed": false
   },
   "outputs": [],
   "source": [
    "import omaat_lib as omaat\n",
    "%matplotlib notebook"
   ]
  },
  {
   "cell_type": "markdown",
   "metadata": {},
   "source": [
    "<h2>Cell 2. Log into OpenMSI</h2>\n",
    "Execute the cell below. When the cell is executed, the user is asked to put in their NERSC/OpenMSI username. \n",
    "<p>After entering their username, the user is asked to put in their NERSC/OpenMSI password. _--If login is succesful, the message \"Login appears to be successful!\" will appear--_<p>"
   ]
  },
  {
   "cell_type": "code",
   "execution_count": null,
   "metadata": {
    "collapsed": false
   },
   "outputs": [],
   "source": [
    "openMSIsession = omaat.login()"
   ]
  },
  {
   "cell_type": "markdown",
   "metadata": {},
   "source": [
    "<h2>Cell 3. File and ion selection</h2>\n",
    "After a successful login, executing the file selector cell will prompt a list of the users available OpenMSI files. <p>_--If not logged into OpenMSI, only the publicly available OpenMSI files will be displayed--_"
   ]
  },
  {
   "cell_type": "code",
   "execution_count": null,
   "metadata": {
    "collapsed": false
   },
   "outputs": [],
   "source": [
    "if \"openMSIsession\" not in locals():\n",
    "    openMSIsession=omaat.OpenMSIsession()\n",
    "openMSIsession.imageLoader_with_dialogs() #once loaded the image will be stored in the \"img\" variable"
   ]
  },
  {
   "cell_type": "markdown",
   "metadata": {},
   "source": [
    "<h2>Cell 4. Display base image</h2>\n",
    "In order to display the generated base image, execute the cell below. The base image will be displayed inline. The base image is the ion-intensity vizualization of all selected ions."
   ]
  },
  {
   "cell_type": "code",
   "execution_count": null,
   "metadata": {
    "collapsed": false
   },
   "outputs": [],
   "source": [
    "Zzoom=1 #set this to a higher number to see a narrower range of values (useful if one pixel is way brighter than the rest)\n",
    "omaat.plt.figure(num = 'Base Image')\n",
    "omaat.plt.imshow(openMSIsession.img.baseImage,\n",
    "                 cmap='gray',\n",
    "                 clim=(0.0,omaat.np.amax(openMSIsession.img.baseImage)/Zzoom))\n",
    "omaat.plt.colorbar()\n",
    "omaat.plt.show()"
   ]
  },
  {
   "cell_type": "markdown",
   "metadata": {},
   "source": [
    "<h2>Cell 5. Placing trapezoidal mask</h2>\n",
    "By executing the cell below, a trapezoidal mask containing individual markers will be generated. The size of the trapezoid and the number of markers is determined by number of rows and columns. \n",
    "<p> Then, the trapezoidal mask is roughly placed over the arryaed samples; optimization of positioning of the individual markers will be performed in the next cells. The mask can be moved by dragging the corner markers of the trapezoid (highlighted with red halos) to the prefered position. \n",
    "<p>The Hexagonal Offset, which can be a decimal number, moves every other row that many spots to the right. If you want a traditional hexagonally tiled mask, set the Hexagonal Offset to 0.5 to move every other row to the right, or set it to -0.5 to move every other row to the left."
   ]
  },
  {
   "cell_type": "code",
   "execution_count": null,
   "metadata": {
    "collapsed": false,
    "scrolled": false
   },
   "outputs": [],
   "source": [
    "openMSIsession.img.roughPosition_with_dialogs()"
   ]
  },
  {
   "cell_type": "markdown",
   "metadata": {},
   "source": [
    "<h2>Cell 6. Automatic spot optimization</h2>\n",
    "In the next cell, the Jupyter notebook will optimze the marker position. For detials on the optimization algorithm, see the method section in the [manuscript](link to paper). \n",
    "<p>_--The progress of the optimization will be displayed. When optimization is completed, the message \"optimization routine completed. new spot x and y positions saved.\" will appear--_\n",
    "\n",
    "<p>Performing the spot optimization is optional. Individual markers can be positioned manually in the cell 'Displaying optimized markers(s) positioning'"
   ]
  },
  {
   "cell_type": "code",
   "execution_count": null,
   "metadata": {
    "collapsed": false
   },
   "outputs": [],
   "source": [
    "#automagically optimize the spot centers to correspond to the actual spots on the image\n",
    "openMSIsession.img.optimizeSpots_with_dialogs()"
   ]
  },
  {
   "cell_type": "markdown",
   "metadata": {},
   "source": [
    "<h2>Cell 7. Displaying and finetuning optimized marker positioning</h2>\n",
    "In order to view the optimized marker postioning, execute the cell below. Individual markers can be moved by dragging the markers to the preferred postion.\n",
    "<p>The radius of the circular spot markers in this tool is not necessarily the same as your actual integration radius, though we have tried our best to make it a reasonable approximation. Use the \"Calculating spot areas\" cell below to see the shapes of your actual calculated spots</p>\n",
    "<p>If no automatic spot optimization was performed, the trapezoidal mask will be at same postion as it was. Still, individual markers can be moved by dragging the markers to the preferred postion."
   ]
  },
  {
   "cell_type": "code",
   "execution_count": null,
   "metadata": {
    "collapsed": false
   },
   "outputs": [],
   "source": [
    "#check the positions of the spots and manually adjust them if need be\n",
    "radius=omaat.get_default_params()['arrayed_analysis_radius']\n",
    "openMSIsession.img.fineTunePosition(markerRadius=radius,colormap='gray',markercolor='blue')"
   ]
  },
  {
   "cell_type": "markdown",
   "metadata": {},
   "source": [
    "<h2>Cell 8. Saving Arrayed Image</h2>\n",
    "If needed, the arrayed image, including the coordinates of the spots, can be stored in a 'pickle' file. First, enter a name between the parentheses, replacing name_pickle_file. "
   ]
  },
  {
   "cell_type": "code",
   "execution_count": null,
   "metadata": {
    "collapsed": false
   },
   "outputs": [],
   "source": [
    "#Optional: Save the ArrayedImage into a pickle file.\n",
    "filename=\"filename.arrayed_img\"\n",
    "omaat.pickle.dump(openMSIsession.img, open(filename,\"wb\"))\n",
    "print(\"Done saving.\")"
   ]
  },
  {
   "cell_type": "markdown",
   "metadata": {},
   "source": [
    "<h2>Cell 9. Loading saved mask position</h2>\n",
    "Saved arrayed images can be loaded from a pickle file. Enter the name of the saved pickle file between the parentheses, replacing name_saved_pickle_file."
   ]
  },
  {
   "cell_type": "code",
   "execution_count": null,
   "metadata": {
    "collapsed": false
   },
   "outputs": [],
   "source": [
    "#Optional: Load an ArrayedImage from a pickle file. This way you can work off-line\n",
    "filename=\"filename.arrayed_img\"\n",
    "img=omaat.pickle.load(open(filename,\"rb\"))\n",
    "print(img)"
   ]
  },
  {
   "cell_type": "markdown",
   "metadata": {},
   "source": [
    "<h2>Cell 10. Calculating the spot areas, and final inspection</h2>\n",
    "Execute the cell below, to calculate which pixels belong to which spot. The integration radius of the markers can be adjusted, but if you leave it as-is, the same number you used in the optimization stage will be used.\n",
    "A visual representation of the marker size and positioning will be genreated for visiual inspection.\n",
    "<p>--The message \"x spots generated. number of spots with N pixels:{x: x, x: x}\" will appear--_"
   ]
  },
  {
   "cell_type": "code",
   "execution_count": null,
   "metadata": {
    "collapsed": false
   },
   "outputs": [],
   "source": [
    "#You'll need to call this function. It returns a list of spots (where each spot is a list of pixels),\n",
    "#which is also stored inside the object.\n",
    "\n",
    "# line 536\n",
    "# see if default_params overwrites parameters specified as kwargs\n",
    "\n",
    "radius = omaat.get_default_params()['arrayed_analysis_radius']\n",
    "#this is the same integration radius that you set in the optimization step\n",
    "\n",
    "spots=openMSIsession.img.generateSpotList(integrationRadius=radius)\n",
    "\n",
    "openMSIsession.img.showMaskedImage(spotList=spots,alphaRows=True)"
   ]
  },
  {
   "cell_type": "markdown",
   "metadata": {},
   "source": [
    "<h2>Cell 11. Exporting results into a comma-separated text file</h2>\n",
    "The next cell is used to save the results of the arrayed analysis tool as a table into a .csv file. It will name the file after the current date and time, but if you want to give the file a specific name, enter the name between the quotes after filename=,\n",
    "\n",
    "The file will contain a comma-separated file which you could open in Excel to do further data anlysis."
   ]
  },
  {
   "cell_type": "code",
   "execution_count": null,
   "metadata": {
    "collapsed": false,
    "scrolled": true
   },
   "outputs": [],
   "source": [
    "#Write results to a file\n",
    "#if you don't pass it an explicit spotList it will use the spot set stored in the ArrayedImage\n",
    "filename=\"\"  #If you want a specific filename, enter it here. .csv extension will be automatically added\n",
    "openMSIsession.img.writeResultTable(fileName=filename,alphaRows=True)"
   ]
  },
  {
   "cell_type": "markdown",
   "metadata": {},
   "source": [
    "<h2>Cell 12. Using pandas to perform programmatic data analysis</h2>\n",
    "If you prefer to use Pandas over Excel to do data analysis, the resultsDataFrame method returns a Pandas dataframe with the same kind of information that the writeResultTable method gives.\n",
    "In this example, we compute the first ion as a percentage of all ions loaded, and plot those percentages, from small to large, using matplotlib. "
   ]
  },
  {
   "cell_type": "code",
   "execution_count": null,
   "metadata": {
    "collapsed": false,
    "scrolled": false
   },
   "outputs": [],
   "source": [
    "df=openMSIsession.img.resultsDataFrame(minPixelIntensity=0,alphaRows=True) #generate the dataframe\n",
    "# IPython.display.display(df)\n",
    "\n",
    "sums_df=df.loc[:,(slice(None),'sum')] #get the sums from the dataframe\n",
    "sums_df.columns = sums_df.columns.get_level_values(0) #name the columns to make indexing easier later\n",
    "percentage_firstion=100.0*sums_df[openMSIsession.img.ions[0]]/sums_df.sum(axis=1) #calculate the percentage\n",
    "percentage_firstion.sort() #rank the data from low to high. Using sort() instead of sort_values(inplace=True) for backward compatibility\n",
    "omaat.plt.figure()\n",
    "omaat.plt.bar(range(len(percentage_firstion)),percentage_firstion,edgecolor='b') #define a bar chart\n",
    "omaat.plt.xlabel('Spot rank') #set x axis label\n",
    "omaat.plt.ylabel(\"% m/z={:.1f} of all loaded ions\".format(openMSIsession.img.ions[0])) #set y axis label\n",
    "omaat.plt.xlim(0,len(percentage_firstion)-1) #set x axis range\n",
    "omaat.plt.show()\n",
    "df.head()"
   ]
  },
  {
   "cell_type": "markdown",
   "metadata": {},
   "source": [
    "<h2>Viewing and manipulating spot spectra</h2>\n",
    "You can request the average spectra for your spots from the OpenMSI server.\n",
    "The toolkit can return the spectral data as a dataframe, which makes plotting straight-forward\n",
    "\n",
    "Quite a lot of data needs to be transferred between the server and this script, so allow some time\n",
    "for this example to run"
   ]
  },
  {
   "cell_type": "code",
   "execution_count": null,
   "metadata": {
    "collapsed": false,
    "scrolled": false
   },
   "outputs": [],
   "source": [
    "spectra_df=openMSIsession.getSpotSpectra(openMSIsession.img,verbose=True) #Loads the spectra from the OpenMSI server\n",
    "                                                           #It's  lot of data, so save the desulting dataframe\n",
    "                                                           #so that you dont have to run this method repeatedly.\n",
    "\n",
    "omaat.plt.figure()\n",
    "A01_spectrum=spectra_df[\"A01\"] # get only the spectrum for the spot at location A01\n",
    "A01_spectrum.plot() #plot the entire spectrum for spot A01\n",
    "omaat.plt.xlabel(\"m/z\")\n",
    "omaat.plt.ylabel(\"intensity\")\n",
    "omaat.plt.show()\n",
    "\n",
    "omaat.plt.figure()\n",
    "A01_spectrum[900:1950].plot() #plot only the m/z values between 900 and 1200\n",
    "plt.xlabel(\"m/z\")\n",
    "plt.ylabel(\"intensity\")\n",
    "plt.show()\n",
    "\n",
    "omaat.plt.figure()\n",
    "spectra_df.plot() # plot ALL the spectra that are loaded on top of each other.\n",
    "                  #Depending on how many spots are in your image, this can be\n",
    "                  #a LOT of data, if you don't have a good computer this might crash.\n",
    "plt.xlabel(\"m/z\")\n",
    "plt.ylabel(\"intensity\")\n",
    "plt.show()"
   ]
  }
 ],
 "metadata": {
  "anaconda-cloud": {},
  "kernelspec": {
   "display_name": "Python 3",
   "language": "python",
   "name": "python3"
  },
  "language_info": {
   "codemirror_mode": {
    "name": "ipython",
    "version": 3
   },
   "file_extension": ".py",
   "mimetype": "text/x-python",
   "name": "python",
   "nbconvert_exporter": "python",
   "pygments_lexer": "ipython3",
   "version": "3.5.2"
  }
 },
 "nbformat": 4,
 "nbformat_minor": 0
}
