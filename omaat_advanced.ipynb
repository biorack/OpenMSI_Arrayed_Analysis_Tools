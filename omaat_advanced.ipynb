{
 "cells": [
  {
   "cell_type": "markdown",
   "metadata": {},
   "source": [
    "# OpenMSI Arrayed Analysis Tool\n",
    "This Notebook is meant as an example for those who prefer programmatic access to the OpenMSI Arrayed Analysis toolkit over the interactive dialogs in the other notebook\n",
    "\n",
    "***PLEASE NOTE THIS EXAMPLE IS MEANT FOR EXPERIENCED PYTHON PROGRAMMERS.***\n",
    "\n",
    "***If you want a no-fuss data analysis tool, use the notebook called <a href=\"OpenMSI_Arrayed_Analysis_with_dialogs.ipynb\">OpenMSI_Arrayed_Analysis_with_dialogs.ipynb</a>.***\n",
    "\n",
    "There is, of course, more than one way to leverage this tool, so use this example to inspire your analysis pipeline. You might want to mix-and-match interactive commands from the interactive notebook with some non-interactive code featured here.\n",
    "\n",
    "This way of accessing the toolbox is still not entirely non-interactive, because logging in and spot grid definition (the roughPosition function) are ***always*** interactive\n",
    "\n",
    "Avoid in-lining matplotlib in this notebook, because the spot placement GUI requires windowed mode.\n",
    "If you do need to use inline graphics, save the img using pickle, and un-pickle it in a fresh notebook in which you've also %run Arrayed_Analysis_Tools.ipy"
   ]
  },
  {
   "cell_type": "code",
   "execution_count": null,
   "metadata": {
    "collapsed": false
   },
   "outputs": [],
   "source": [
    "import omaat_lib as omaat\n",
    "%matplotlib notebook"
   ]
  },
  {
   "cell_type": "code",
   "execution_count": null,
   "metadata": {
    "collapsed": false,
    "scrolled": false
   },
   "outputs": [],
   "source": [
    "#OPTIONAL: log into OpenMSI.nersc.gov\n",
    "openMSIsession = omaat.login()"
   ]
  },
  {
   "cell_type": "code",
   "execution_count": null,
   "metadata": {
    "collapsed": false
   },
   "outputs": [],
   "source": [
    "#If you choose NOT to log in, you can create a new openMSISession\n",
    "if \"openMSIsession\" not in locals():\n",
    "    openMSIsession=omaat.OpenMSIsession()"
   ]
  },
  {
   "cell_type": "code",
   "execution_count": null,
   "metadata": {
    "collapsed": false
   },
   "outputs": [],
   "source": [
    "#Use a file selector to pick a file to download\n",
    "openMSIsession.fileSelector() #if this is not the last statement of the cell,\n",
    "                              #you'll need to call IPython.display.display() on this\n",
    "#fileSelector() stores the picked file in the openMSI object\n",
    "#so that it downloads the right file in the getArrayedImage function later"
   ]
  },
  {
   "cell_type": "code",
   "execution_count": null,
   "metadata": {
    "collapsed": false
   },
   "outputs": [],
   "source": [
    "#generates an ArrayedImage from these specificied ions.\n",
    "myIons = [751.25, 797.04, 812.05]\n",
    "img=openMSIsession.getArrayedImage(myIons,0.3,massRangeReductionStrategy=omaat.PeakArea())\n",
    "# Look at this function's docstring to find explanations of all the arguments, or use the defaults\n",
    "# MassReductionStrategies available are PeakArea() PeakHeight() and AreaNearPeak(), PeakArea() is the default\n",
    "# If you don't like to use the fileselector in the previous cell, you also can pass a filename to the getArrayedImage function"
   ]
  },
  {
   "cell_type": "code",
   "execution_count": null,
   "metadata": {
    "collapsed": false
   },
   "outputs": [],
   "source": [
    "#optional: check what the image looks likes now\n",
    "Zzoom=1 #set this to a higher number to see a narrower range of values (useful if one pixel is way brighter than the rest)\n",
    "\n",
    "omaat.plt.figure()       \n",
    "omaat.plt.imshow(img.baseImage,cmap='jet_r',clim=(0.0,omaat.np.amax(img.baseImage)/Zzoom))\n",
    "omaat.plt.colorbar() \n",
    "omaat.plt.show()"
   ]
  },
  {
   "cell_type": "code",
   "execution_count": null,
   "metadata": {
    "collapsed": false
   },
   "outputs": [],
   "source": [
    "#define spot centers as a trapezoid. Set HexagonalOffset = 0.5 or -0.5 for dense circle packing or False for square packing\n",
    "columns = 20\n",
    "rows = 12\n",
    "img.roughPosition(columns,rows,colormap='jet_r',hexagonalOffset=-0.5)"
   ]
  },
  {
   "cell_type": "code",
   "execution_count": null,
   "metadata": {
    "collapsed": false,
    "scrolled": false
   },
   "outputs": [],
   "source": [
    "#automagically optimize the spot centers to correspond to the actual spots on the image\n",
    "img.optimizeSpots(verbose=False,minimumScore=100,halfboxsize=2,integrationRadius=2,avoidOverlaps=True,overlapDistance_squared=16)\n",
    "\n",
    "#if you don't want spots to move off the grid unless they actually find a spot, set a minimumScore.\n",
    "#(this is useful is there's missing spots from your grid)\n",
    "#if you want to find out what a reasonable number for a minimumScore is, try running the optimization with verbose=True,\n",
    "#or use the img.optimizeSpots_with_dialogs() function.\n",
    "#conversely, if you want to make /sure/ that there is a spot with a score of /at least/ minimumScore,\n",
    "#you can choose to set raiseExceptions=True"
   ]
  },
  {
   "cell_type": "code",
   "execution_count": null,
   "metadata": {
    "collapsed": false
   },
   "outputs": [],
   "source": [
    "#check the positions of the spots and manually adjust them if need be\n",
    "img.fineTunePosition(colormap='jet_r',markerRadius=3,spotLabelsAlwaysOn=True)"
   ]
  },
  {
   "cell_type": "code",
   "execution_count": null,
   "metadata": {
    "collapsed": true
   },
   "outputs": [],
   "source": [
    "#Optional: Save the ArrayedImage into a pickle file.\n",
    "import pickle\n",
    "pickle.dump(img, open(\"saved_image\",\"wb\"))"
   ]
  },
  {
   "cell_type": "code",
   "execution_count": null,
   "metadata": {
    "collapsed": false
   },
   "outputs": [],
   "source": [
    "#Optional: Load an ArrayedImage from a pickle file. This way you can work off-line\n",
    "import pickle\n",
    "img=pickle.load(open(\"saved_image\",\"rb\"))\n",
    "print(img)"
   ]
  },
  {
   "cell_type": "code",
   "execution_count": null,
   "metadata": {
    "collapsed": false,
    "scrolled": false
   },
   "outputs": [],
   "source": [
    "#all the rest of the functions can be run non-interactively. In this example it will save the results to a tab-separated file\n",
    "#as well as to a pandas data-frame for data analysis directly in this notebook\n",
    "\n",
    "#You'll need to call this function. It returns a list of spots (where each spot is a list of pixels),\n",
    "#which is also stored inside the object.\n",
    "spots=img.generateSpotList(integrationRadius=2)\n",
    "\n",
    "#Write results to a file\n",
    "#if you don't pass it an explicit spotList it will use the spot set stored in the ArrayedImage\n",
    "img.writeResultTable(\"resultTable\",minPixelIntensity=0,alphaRows=True)\n",
    "\n",
    "df=img.resultsDataFrame(minPixelIntensity=0,alphaRows=True) #generate the dataframe\n",
    "#alphaRows=True makes the indexes of the data frame strings with an alphabetical row identifier.\n",
    "#alphaRows=False sets the indexes to 2-tuples (row,column)\n",
    "\n",
    "sums_df=df.loc[:,(slice(None),'sum')] #get the sums from the dataframe\n",
    "sums_df.columns = sums_df.columns.get_level_values(0) #name the columns to make indexing easier later\n",
    "percentage_firstion=100.0*sums_df[img.ions[0]]/sums_df.sum(axis=1) #calculate the percentage\n",
    "percentage_firstion.sort() #rank the data from low to high. Using sort() instead of sort_values(inplace=True) for backward compatibility\n",
    "\n",
    "omaat.plt.figure()\n",
    "omaat.plt.bar(range(len(percentage_firstion)),percentage_firstion,edgecolor='b') #define a bar chart\n",
    "omaat.plt.xlabel('Spot rank') #set x axis label\n",
    "omaat.plt.ylabel(\"% m/z={:.1f} of all loaded ions\".format(img.ions[0])) #set y axis label\n",
    "omaat.plt.xlim(0,len(percentage_firstion)-1) #set x axis range\n",
    "omaat.plt.show()\n",
    "\n",
    "df.head()\n"
   ]
  },
  {
   "cell_type": "code",
   "execution_count": null,
   "metadata": {
    "collapsed": false
   },
   "outputs": [],
   "source": [
    "#Optional: If you want to see a visual respresenation of which pixels are taken into account when\n",
    "#calculating the result table. If you don't pass it an explicit spotList it will use the stored spotList\n",
    "maskedimg=img.showMaskedImage(alphaRows=True)\n",
    "#if you don't want to see the spot row and column co-ordinates, use img.generateMaskedImage() in stead"
   ]
  },
  {
   "cell_type": "code",
   "execution_count": null,
   "metadata": {
    "collapsed": false
   },
   "outputs": [],
   "source": [
    "#The toolkit also contains a functions that allow you to grab mass spectra for all the spots in the ArrayedImage\n",
    "#from the OpenMSI server\n",
    "\n",
    "spectra_df=openMSIsession.getSpotSpectra(img,verbose=True) #Loads the spectra from the OpenMSI server\n",
    "                                                           #It's  lot of data, so save the desulting dataframe\n",
    "                                                           #so that you dont have to run this method repeatedly.\n",
    "\n",
    "omaat.plt.figure()       \n",
    "A01_spectrum=spectra_df[\"A01\"] # get only the spectrum for the spot at location A01\n",
    "A01_spectrum.plot() #plot the entire spectrum for spot A01\n",
    "omaat.plt.xlabel(\"m/z\")\n",
    "omaat.plt.ylabel(\"intensity\")\n",
    "omaat.plt.show()\n",
    "A01_spectrum[900:1200].plot() #plot only the m/z values between 900 and 1200\n",
    "omaat.plt.xlabel(\"m/z\")\n",
    "omaat.plt.ylabel(\"intensity\")\n",
    "omaat.plt.show()\n",
    "\n",
    "#spectra_df.plot() # plot ALL the spectra that are loaded on top of each other.\n",
    "                   #Depending on how many spots are in your image, this can be\n",
    "                   #a LOT of data, if you don't have a good computer this might crash.\n",
    "#plt.show()"
   ]
  }
 ],
 "metadata": {
  "anaconda-cloud": {},
  "kernelspec": {
   "display_name": "Python 3",
   "language": "python",
   "name": "python3"
  },
  "language_info": {
   "codemirror_mode": {
    "name": "ipython",
    "version": 3
   },
   "file_extension": ".py",
   "mimetype": "text/x-python",
   "name": "python",
   "nbconvert_exporter": "python",
   "pygments_lexer": "ipython3",
   "version": "3.6.0"
  },
  "widgets": {
   "state": {
    "f5bd444e48b14b32a841a278faeaa260": {
     "views": [
      {
       "cell_index": 4
      }
     ]
    }
   },
   "version": "1.2.0"
  }
 },
 "nbformat": 4,
 "nbformat_minor": 0
}
