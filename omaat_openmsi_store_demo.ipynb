{
 "cells": [
  {
   "cell_type": "markdown",
   "metadata": {},
   "source": [
    "# Restore results from pickle to test OpenMSI store"
   ]
  },
  {
   "cell_type": "code",
   "execution_count": 1,
   "metadata": {
    "collapsed": false
   },
   "outputs": [],
   "source": [
    "import os\n",
    "from omaat_lib import ArrayedImage, login"
   ]
  },
  {
   "cell_type": "code",
   "execution_count": 2,
   "metadata": {
    "collapsed": false
   },
   "outputs": [
    {
     "name": "stdout",
     "output_type": "stream",
     "text": [
      "Login appears to be successful!\n"
     ]
    }
   ],
   "source": [
    "#log into OpenMSI.nersc.gov\n",
    "openMSIsession = login()"
   ]
  },
  {
   "cell_type": "code",
   "execution_count": 3,
   "metadata": {
    "collapsed": false
   },
   "outputs": [],
   "source": [
    "# Load an ArrayedImage from a pickle file. \n",
    "filename=\"filename.arrayed_img\"\n",
    "import pickle\n",
    "img=pickle.load(open(filename,\"rb\"))"
   ]
  },
  {
   "cell_type": "code",
   "execution_count": 4,
   "metadata": {
    "collapsed": false
   },
   "outputs": [
    {
     "name": "stdout",
     "output_type": "stream",
     "text": [
      "4 spots generated. number of spots with N pixels:{11: 1, 13: 3}\n"
     ]
    }
   ],
   "source": [
    "%store -r arrayed_analysis_radius\n",
    "spots=img.generateSpotList(integrationRadius=arrayed_analysis_radius)"
   ]
  },
  {
   "cell_type": "code",
   "execution_count": 5,
   "metadata": {
    "collapsed": false
   },
   "outputs": [
    {
     "name": "stdout",
     "output_type": "stream",
     "text": [
      "Finished loading spectrum 1 out of 4\n",
      "Finished loading spectrum 2 out of 4\n",
      "Finished loading spectrum 3 out of 4\n",
      "Finished loading spectrum 4 out of 4\n"
     ]
    }
   ],
   "source": [
    "spectra_df=openMSIsession.getSpotSpectra(img,verbose=True)"
   ]
  },
  {
   "cell_type": "markdown",
   "metadata": {},
   "source": [
    "<h2>Saving, Restoring, Uploading, and Downloading OMAAT results to/from OpenMSI</h2>\n",
    "\n",
    "You can save the results from the spot analysis to an OpenMSI HDF5 file and upload the file to OpenMSI to easily share results with others. This functionality is available in a the ```omaat_openmsi_store.py``` module. Several of the functions depend on BASTet <a href='https://github.com/biorack/BASTet'>https://github.com/biorack/BASTet</a> and are currently Python 2 only."
   ]
  },
  {
   "cell_type": "code",
   "execution_count": 6,
   "metadata": {
    "collapsed": true
   },
   "outputs": [],
   "source": [
    "import omaat_openmsi_store"
   ]
  },
  {
   "cell_type": "markdown",
   "metadata": {
    "collapsed": false
   },
   "source": [
    "If you only want to save Arrayed Image to an OpenMSI HDF5 file then do:"
   ]
  },
  {
   "cell_type": "code",
   "execution_count": 7,
   "metadata": {
    "collapsed": false
   },
   "outputs": [],
   "source": [
    "# Save the ArrayedImage to an OpenMSI File\n",
    "save_filename = 'save_omaat8.h5'\n",
    "omsi_out_file = omaat_openmsi_store.save_arrayed_image_to_omsi_file(arrayedImage=img, \n",
    "                                                                    filename=save_filename, \n",
    "                                                                    spotSpectra=spectra_df)  \n",
    "# filename : If None, than a dialog will be shown to ask for a filename to be used"
   ]
  },
  {
   "cell_type": "markdown",
   "metadata": {},
   "source": [
    "We can now easily restore our analysis from the local file at any time via:"
   ]
  },
  {
   "cell_type": "code",
   "execution_count": 8,
   "metadata": {
    "collapsed": false
   },
   "outputs": [
    {
     "name": "stdout",
     "output_type": "stream",
     "text": [
      "ArrayedImage based on 20120913_nimzyme.h5\n",
      "Ions loaded: [1141.35, 1143.05, 1241.25]\n",
      "# of spot locations defined: 4\n",
      "# of spot pixel masks defined: 4\n"
     ]
    }
   ],
   "source": [
    "spotSpectraResored, arrayedImageRestored = omaat_openmsi_store.restore_omaat_results( \n",
    "                            openmsiSession=openMSIsession,\n",
    "                            filename=save_filename,\n",
    "                            localFile=True)\n",
    "print arrayedImageRestored"
   ]
  },
  {
   "cell_type": "markdown",
   "metadata": {},
   "source": [
    "To upload our ArrayedImage to OpenMSI we simply call:"
   ]
  },
  {
   "cell_type": "code",
   "execution_count": 10,
   "metadata": {
    "collapsed": false
   },
   "outputs": [
    {
     "data": {
      "text/plain": [
       "(True, True, False, None)"
      ]
     },
     "execution_count": 10,
     "metadata": {},
     "output_type": "execute_result"
    }
   ],
   "source": [
    "omaat_openmsi_store.upload_omaat_results(username=None, filename=save_filename, machine='edison')\n",
    "# filename: If we set the fileName to None, then we'll ask the user for a filename via a dialog\n",
    "# username: We can set the username or we'll ask for it\n",
    "# session: The NERSC NEWT session to be used (not the OpenMSI seesion). We'll create it if not given\n",
    "# machine: The NERSC machine weshould use for the upload, e.g., 'cori' or 'edison'"
   ]
  },
  {
   "cell_type": "markdown",
   "metadata": {},
   "source": [
    "We can naturally also download the complete HDF5 file from OpenMSI simply via:"
   ]
  },
  {
   "cell_type": "code",
   "execution_count": 11,
   "metadata": {
    "collapsed": false
   },
   "outputs": [],
   "source": [
    "remote_file = os.path.join(openMSIsession.username, os.path.basename(save_filename))\n",
    "download_filename = omaat_openmsi_store.download_file(openmsiSession=openMSIsession,\n",
    "                                                      filename=remote_file)"
   ]
  },
  {
   "cell_type": "markdown",
   "metadata": {},
   "source": [
    "We can now again restore our analysis from the downloaded file in the same way as before via:"
   ]
  },
  {
   "cell_type": "code",
   "execution_count": 12,
   "metadata": {
    "collapsed": false
   },
   "outputs": [
    {
     "name": "stdout",
     "output_type": "stream",
     "text": [
      "ArrayedImage based on 20120913_nimzyme.h5\n",
      "Ions loaded: [1141.35, 1143.05, 1241.25]\n",
      "# of spot locations defined: 4\n",
      "# of spot pixel masks defined: 4\n"
     ]
    }
   ],
   "source": [
    "spotSpectra_resored, arrayedImage_restored = omaat_openmsi_store.restore_omaat_results(filename=download_filename,\n",
    "                                                                                       localFile=True)\n",
    "print arrayedImage_restored"
   ]
  },
  {
   "cell_type": "markdown",
   "metadata": {},
   "source": [
    "We can also restore our arrayed image and spot spectra data from the remote file stored on OpenMSI directly via"
   ]
  },
  {
   "cell_type": "code",
   "execution_count": 13,
   "metadata": {
    "collapsed": false
   },
   "outputs": [],
   "source": [
    "#remote_file = os.path.join(openMSIsession.username, os.path.basename(save_filename))\n",
    "#spotSpectra_resored, arrayedImage_restored = openMSIsession.restore_omaat_results(\n",
    "#                            filename=remote_file,\n",
    "#                            localFile=False)"
   ]
  },
  {
   "cell_type": "code",
   "execution_count": null,
   "metadata": {
    "collapsed": false
   },
   "outputs": [],
   "source": []
  },
  {
   "cell_type": "code",
   "execution_count": null,
   "metadata": {
    "collapsed": true
   },
   "outputs": [],
   "source": []
  }
 ],
 "metadata": {
  "anaconda-cloud": {},
  "kernelspec": {
   "display_name": "Python [conda root]",
   "language": "python",
   "name": "conda-root-py"
  },
  "language_info": {
   "codemirror_mode": {
    "name": "ipython",
    "version": 2
   },
   "file_extension": ".py",
   "mimetype": "text/x-python",
   "name": "python",
   "nbconvert_exporter": "python",
   "pygments_lexer": "ipython2",
   "version": "2.7.11"
  }
 },
 "nbformat": 4,
 "nbformat_minor": 0
}
