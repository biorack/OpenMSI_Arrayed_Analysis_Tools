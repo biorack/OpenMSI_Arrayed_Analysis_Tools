{
 "cells": [
  {
   "cell_type": "markdown",
   "metadata": {},
   "source": [
    "# OpenMSI Arrayed Analysis Tool\n",
    "This Notebook is meant as an example for those who prefer programmatic access to the OpenMSI Arrayed Analysis toolkit over the interactive dialogs in the other notebook\n",
    "\n",
    "***PLEASE NOTE THIS EXAMPLE IS MEANT FOR EXPERIENCED PYTHON PROGRAMMERS.***\n",
    "\n",
    "***If you want a no-fuss data analysis tool, use the notebook called <a href=\"OpenMSI_Arrayed_Analysis_with_dialogs.ipynb\">OpenMSI_Arrayed_Analysis_with_dialogs.ipynb</a>.***\n",
    "\n",
    "There is, of course, more than one way to leverage this tool, so use this example to inspire your analysis pipeline. You might want to mix-and-match interactive commands from the interactive notebook with some non-interactive code featured here.\n",
    "\n",
    "This way of accessing the toolbox is still not entirely non-interactive, because logging in and spot grid definition (the roughPosition function) are ***always*** interactive\n",
    "\n",
    "Avoid in-lining matplotlib in this notebook, because the spot placement GUI requires windowed mode.\n",
    "If you do need to use inline graphics, save the img using pickle, and un-pickle it in a fresh notebook in which you've also %run Arrayed_Analysis_Tools.ipy"
   ]
  },
  {
   "cell_type": "code",
   "execution_count": null,
   "metadata": {
    "collapsed": false
   },
   "outputs": [],
   "source": [
    "#load the code. Since it's specialized ipython notebook code, use '%run' rather than 'import'\n",
    "%run Arrayed_Analysis_Tools_python_2_or_3.ipy"
   ]
  },
  {
   "cell_type": "code",
   "execution_count": null,
   "metadata": {
    "collapsed": false,
    "scrolled": true
   },
   "outputs": [],
   "source": [
    "#OPTIONAL: log into OpenMSI.nersc.gov\n",
    "openMSIsession = login()"
   ]
  },
  {
   "cell_type": "code",
   "execution_count": null,
   "metadata": {
    "collapsed": false
   },
   "outputs": [],
   "source": [
    "#If you choose NOT to log in, you can create a new openMSISession\n",
    "if \"openMSIsession\" not in locals():\n",
    "    openMSIsession=OpenMSIsession()"
   ]
  },
  {
   "cell_type": "code",
   "execution_count": null,
   "metadata": {
    "collapsed": false
   },
   "outputs": [],
   "source": [
    "#Use a file selector to pick a file to download\n",
    "openMSIsession.fileSelector() #if this is not the last statement of the cell,\n",
    "                              #you'll need to call IPython.display.display() on this\n",
    "#fileSelector() stores the picked file in the openMSI object\n",
    "#so that it downloads the right file in the getArrayedImage function later"
   ]
  },
  {
   "cell_type": "code",
   "execution_count": null,
   "metadata": {
    "collapsed": false
   },
   "outputs": [],
   "source": [
    "#generates an ArrayedImage from these specificied ions.\n",
    "myIons = [351.25, 137.04, 212.05]\n",
    "img=openMSIsession.getArrayedImage(myIons,0.3,massRangeReductionStrategy=PeakArea())\n",
    "# Look at this function's docstring to find explanations of all the arguments, or use the defaults\n",
    "# MassReductionStrategies available are PeakArea() PeakHeight() and AreaNearPeak(), PeakArea() is the default\n",
    "# If you don't like to use the fileselector in the previous cell, you can pass a filename to the getArrayedImage function"
   ]
  },
  {
   "cell_type": "code",
   "execution_count": null,
   "metadata": {
    "collapsed": false
   },
   "outputs": [],
   "source": [
    "#optional: check what the image looks likes now\n",
    "\n",
    "plt.imshow(img.baseImage,cmap='jet_r',clim=(0.0,np.amax(img.baseImage)/2)) #get rid of the /2 to see a wider range, or divide\n",
    "                                                                           #by a bigger number if you want a narrower range\n",
    "plt.colorbar() \n",
    "putWindowOnTop()\n",
    "plt.show()"
   ]
  },
  {
   "cell_type": "code",
   "execution_count": null,
   "metadata": {
    "collapsed": false
   },
   "outputs": [],
   "source": [
    "#define spot centers as a trapezoid. Set HexagonalOffset = 0.5 or -0.5 for dense circle packing or False for square packing\n",
    "columns = 20\n",
    "rows = 12\n",
    "img.roughPosition(columns,rows,colormap='jet_r',hexagonalOffset=-0.5)"
   ]
  },
  {
   "cell_type": "code",
   "execution_count": null,
   "metadata": {
    "collapsed": false
   },
   "outputs": [],
   "source": [
    "#automagically optimize the spot centers to correspond to the actual spots on the image\n",
    "img.optimizeSpots(verbose=True,minimumScore=100,halfboxsize=2,integrationRadius=2,avoidOverlaps=True,overlapDistance_squared=3)\n",
    "\n",
    "#if you don't want spots to move off the grid unless they actually find a spot, set a minimumScore.\n",
    "#(this is useful is there's missing spots from your grid)\n",
    "#if you want to find out what a reasonable number for a minimumScore is, try running the optimization with verbose=True,\n",
    "#or use the img.optimizeSpots_with_dialogs() function.\n",
    "#conversely, if you want to make /sure/ that there is a spot with a score of /at least/ minimumScore,\n",
    "#you can choose to set raiseExceptions=True"
   ]
  },
  {
   "cell_type": "code",
   "execution_count": null,
   "metadata": {
    "collapsed": false
   },
   "outputs": [],
   "source": [
    "#check the positions of the spots and manually adjust them if need be\n",
    "img.fineTunePosition(colormap='jet_r',markerRadius=3,spotLabelsAlwaysOn=True)"
   ]
  },
  {
   "cell_type": "code",
   "execution_count": null,
   "metadata": {
    "collapsed": true
   },
   "outputs": [],
   "source": [
    "#Optional: Save the ArrayedImage into a pickle file.\n",
    "import pickle\n",
    "pickle.dump(img, open(\"saved_image\",\"wb\"))"
   ]
  },
  {
   "cell_type": "code",
   "execution_count": null,
   "metadata": {
    "collapsed": false
   },
   "outputs": [],
   "source": [
    "#Optional: Load an ArrayedImage from a pickle file. This way you can work off-line\n",
    "import pickle\n",
    "img=pickle.load(open(\"saved_image\",\"rb\"))\n",
    "print(img)"
   ]
  },
  {
   "cell_type": "code",
   "execution_count": null,
   "metadata": {
    "collapsed": false
   },
   "outputs": [],
   "source": [
    "#all the rest of the functions can be run non-interactively. In this example it will save the results to a tab-separated file\n",
    "#as well as to a pandas data-frame for data analysis directly in this notebook\n",
    "\n",
    "#You'll need to call this function. It returns a list of spots (where each spot is a list of pixels),\n",
    "#which is also stored inside the object.\n",
    "spots=img.generateSpotList(integrationRadius=2)\n",
    "\n",
    "#Write results to a file\n",
    "#if you don't pass it an explicit spotList it will use the spot set stored in the ArrayedImage\n",
    "img.writeResultTable(\"resultTable\",minPixelIntensity=0,alphaRows=True)\n",
    "\n",
    "df=img.resultsDataFrame(minPixelIntensity=0,alphaRows=True) #generate the dataframe\n",
    "#alphaRows=True makes the indexes of the data frame strings with an alphabetical row identifier.\n",
    "#alphaRows=False sets the indexes to 2-tuples (row,column)\n",
    "\n",
    "IPython.display.display(df)\n",
    "sums_df=df.loc[:,(slice(None),'sum')] #get the sums from the dataframe\n",
    "sums_df.columns = sums_df.columns.get_level_values(0) #name the columns to make indexing easier later\n",
    "percentage_firstion=100.0*sums_df[img.ions[0]]/sums_df.sum(axis=1) #calculate the percentage\n",
    "percentage_firstion.sort() #rank the data from low to high. Using sort() instead of sort_values(inplace=True) for backward compatibility\n",
    "plt.bar(range(len(percentage_firstion)),percentage_firstion,edgecolor='b') #define a bar chart\n",
    "plt.xlabel('Spot rank') #set x axis label\n",
    "plt.ylabel(\"% m/z={:.1f} of all loaded ions\".format(img.ions[0])) #set y axis label\n",
    "plt.xlim(0,len(percentage_firstion)-1) #set x axis range\n",
    "plt.show()\n",
    "\n"
   ]
  },
  {
   "cell_type": "code",
   "execution_count": null,
   "metadata": {
    "collapsed": false
   },
   "outputs": [],
   "source": [
    "#Optional: If you want to see a visual respresenation of which pixels are taken into account when\n",
    "#calculating the result table. If you don't pass it an explicit spotList it will use the stored spotList\n",
    "maskedimg=img.showMaskedImage(alphaRows=True)\n",
    "#if you don't want to see the spot row and column co-ordinates, use img.generateMaskedImage() in stead"
   ]
  }
 ],
 "metadata": {
  "kernelspec": {
   "display_name": "Python 3",
   "language": "python",
   "name": "python3"
  },
  "language_info": {
   "codemirror_mode": {
    "name": "ipython",
    "version": 3
   },
   "file_extension": ".py",
   "mimetype": "text/x-python",
   "name": "python",
   "nbconvert_exporter": "python",
   "pygments_lexer": "ipython3",
   "version": "3.5.1"
  }
 },
 "nbformat": 4,
 "nbformat_minor": 0
}
